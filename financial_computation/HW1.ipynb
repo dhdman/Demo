{
 "cells": [
  {
   "cell_type": "markdown",
   "metadata": {},
   "source": [
    "# 程式作業1"
   ]
  },
  {
   "cell_type": "code",
   "execution_count": 1,
   "metadata": {},
   "outputs": [],
   "source": [
    "import numpy as np\n",
    "from scipy.stats import norm"
   ]
  },
  {
   "cell_type": "code",
   "execution_count": 2,
   "metadata": {},
   "outputs": [],
   "source": [
    "#parameter1\n",
    "s0 = 50\n",
    "K1 = 50\n",
    "K2 = 98\n",
    "K3 = 102\n",
    "K4 = 110\n",
    "T = 1\n",
    "r = 0.1\n",
    "q = 0.05\n",
    "sigma = 0.25"
   ]
  },
  {
   "cell_type": "raw",
   "metadata": {},
   "source": [
    "#parameter2\n",
    "s0 = 100\n",
    "K1 = 90\n",
    "K2 = 98\n",
    "K3 = 102\n",
    "K4 = 104\n",
    "T = 0.4\n",
    "r = 0.05\n",
    "q = 0.02\n",
    "sigma = 0.5"
   ]
  },
  {
   "cell_type": "code",
   "execution_count": 3,
   "metadata": {},
   "outputs": [],
   "source": [
    "def v(K):\n",
    "    return (np.log(s0/K)+(r-q + sigma**2 /2)*T ) / (sigma*np.sqrt(T))\n",
    "def d(K):\n",
    "    return (np.log(s0/K)+(r-q - sigma**2 /2)*T ) / (sigma*np.sqrt(T))\n",
    "def fr(a,b):\n",
    "    return norm.cdf(v(a)) - norm.cdf(v(b))\n",
    "def fq(a,b):\n",
    "    return norm.cdf(d(a)) - norm.cdf(d(b))"
   ]
  },
  {
   "cell_type": "code",
   "execution_count": 4,
   "metadata": {},
   "outputs": [],
   "source": [
    "def blackprice(K): \n",
    "    return s0*np.exp(-q*T)*norm.cdf(v(K)) - np.exp(-r*T)*K*norm.cdf(d(K))\n",
    "# put-call parity\n",
    "def putprice(K):\n",
    "    return blackprice(K) - s0*np.exp(-q*T) + K*np.exp(-r*T)"
   ]
  },
  {
   "cell_type": "code",
   "execution_count": 5,
   "metadata": {},
   "outputs": [
    {
     "data": {
      "text/plain": [
       "5.7576835603194185"
      ]
     },
     "execution_count": 5,
     "metadata": {},
     "output_type": "execute_result"
    }
   ],
   "source": [
    "price = s0*np.exp(-q*T)*fr(K1,K2) - K1*np.exp(-r*T)*fq(K1,K2) +(K2-K1)*np.exp(-r*T)*fq(K2,K3) \\\n",
    "        +(K2-K1)/(K4-K3) *( K4*np.exp(-r*T)*fq(K3,K4) - s0*np.exp(-q*T)*fr(K3,K4) )\n",
    "price"
   ]
  },
  {
   "cell_type": "markdown",
   "metadata": {},
   "source": [
    "# Black-Shcoles公式驗證:\n",
    "* 用4個call來驗證數值"
   ]
  },
  {
   "cell_type": "code",
   "execution_count": 6,
   "metadata": {
    "scrolled": true
   },
   "outputs": [
    {
     "data": {
      "text/plain": [
       "5.757683560319414"
      ]
     },
     "execution_count": 6,
     "metadata": {},
     "output_type": "execute_result"
    }
   ],
   "source": [
    "blackprice(K1)-blackprice(K2)-blackprice(K3)*(K2-K1)/(K4-K3)+blackprice(K4)*(K2-K1)/(K4-K3)"
   ]
  },
  {
   "cell_type": "markdown",
   "metadata": {},
   "source": [
    "# 未來報酬公式\n",
    "## 蒙地卡羅法\n",
    "* 每次模擬含10000個股價\n",
    "* 共模擬21次\n"
   ]
  },
  {
   "cell_type": "code",
   "execution_count": 7,
   "metadata": {},
   "outputs": [],
   "source": [
    "def futurepay(s):\n",
    "    if K1<=s<K2:\n",
    "        return s-K1\n",
    "    elif K2<=s<K3:\n",
    "        return K2-K1\n",
    "    elif K3<=s<K4:\n",
    "        return (K2-K1)/(K4-K3) *(K4-s)\n",
    "    else:\n",
    "        return 0"
   ]
  },
  {
   "cell_type": "code",
   "execution_count": 8,
   "metadata": {},
   "outputs": [
    {
     "name": "stdout",
     "output_type": "stream",
     "text": [
      "95%信賴區間為=(5.601751,5.924040)\n",
      "5.757684為合理估計\n"
     ]
    }
   ],
   "source": [
    "a = []\n",
    "for i in range(1,21):\n",
    "    lnst = np.random.normal(loc=np.log(s0)+(r-q - sigma**2 /2)*T, scale=sigma*np.sqrt(T), size=10000)\n",
    "    st = np.exp(lnst)\n",
    "    payoff = [ np.exp(-r*T) * futurepay(i) for i in st]\n",
    "    a.append(np.mean(payoff))  \n",
    "mn = np.mean(a)\n",
    "sd = np.std(a)\n",
    "print ('95%%信賴區間為=(%f,%f)' %(mn-2*sd,mn+2*sd))\n",
    "if mn-2*sd<=price<=mn+2*sd:\n",
    "    print('%f為合理估計'%price)\n",
    "else:\n",
    "    print('估計錯誤')\n",
    "    "
   ]
  },
  {
   "cell_type": "code",
   "execution_count": 10,
   "metadata": {},
   "outputs": [
    {
     "data": {
      "text/plain": [
       "3.547582258350303"
      ]
     },
     "execution_count": 10,
     "metadata": {},
     "output_type": "execute_result"
    }
   ],
   "source": [
    "putprice(K1)"
   ]
  }
 ],
 "metadata": {
  "kernelspec": {
   "display_name": "Python 3",
   "language": "python",
   "name": "python3"
  },
  "language_info": {
   "codemirror_mode": {
    "name": "ipython",
    "version": 3
   },
   "file_extension": ".py",
   "mimetype": "text/x-python",
   "name": "python",
   "nbconvert_exporter": "python",
   "pygments_lexer": "ipython3",
   "version": "3.6.5"
  }
 },
 "nbformat": 4,
 "nbformat_minor": 2
}
