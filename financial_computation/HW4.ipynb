{
 "cells": [
  {
   "cell_type": "markdown",
   "metadata": {},
   "source": [
    "Dim S(100,100) Smax(100,100,路徑數201) put(100,100,第三維度)"
   ]
  },
  {
   "cell_type": "markdown",
   "metadata": {},
   "source": [
    "# HW4 Lookback option pricing\n",
    "## Method\n",
    "* binomial tree\n",
    "* Monte Carlo\n",
    "## 初始設定\n",
    "* [多維數組索引](https://blog.csdn.net/brucewong0516/article/details/79186126)"
   ]
  },
  {
   "cell_type": "code",
   "execution_count": 1,
   "metadata": {},
   "outputs": [
    {
     "name": "stdout",
     "output_type": "stream",
     "text": [
      "1.0202013400267558 0.9801986733067553 0.5012505312758022\n"
     ]
    }
   ],
   "source": [
    "import numpy as np\n",
    "maxstart = 60\n",
    "s0 = 50\n",
    "K = 50\n",
    "numsim = 10000\n",
    "numrep = 20\n",
    "T = 0.5\n",
    "t0 = 0.25\n",
    "r = 0.1\n",
    "q = 0\n",
    "sigma = 0.4\n",
    "n = 100\n",
    "dt = (T-t0)/n\n",
    "u = np.exp(sigma*np.sqrt(dt))\n",
    "d = np.exp(-sigma*np.sqrt(dt))\n",
    "p =  (np.exp((r-q)*dt)-d) / (u-d)\n",
    "print(u,d,p)"
   ]
  },
  {
   "cell_type": "markdown",
   "metadata": {},
   "source": [
    "### 股價儲存格式如下:"
   ]
  },
  {
   "cell_type": "raw",
   "metadata": {},
   "source": [
    "s(0,0) 1  s(0,1) 2   s(0,2) 4\n",
    "          s(1,1) 3   s(1,2) 5"
   ]
  },
  {
   "cell_type": "markdown",
   "metadata": {},
   "source": [
    "## 股價生成"
   ]
  },
  {
   "cell_type": "code",
   "execution_count": 2,
   "metadata": {},
   "outputs": [],
   "source": [
    "\n",
    "St = np.zeros((n+1,n+1))\n",
    "\n",
    "for j in range(0,n+1):\n",
    "    for i in range(0,j+1): \n",
    "        St[i,j] = s0*np.power(u,(j-2*i)) #u^(n-i)*d^(i)\n"
   ]
  },
  {
   "cell_type": "code",
   "execution_count": 3,
   "metadata": {},
   "outputs": [],
   "source": [
    "def inheritfunc(Smax,St):\n",
    "    check = (Smax>=St)\n",
    "    if sum(check)==0:\n",
    "        return np.array([St])\n",
    "    else:\n",
    "        return Smax[check]"
   ]
  },
  {
   "cell_type": "code",
   "execution_count": 4,
   "metadata": {},
   "outputs": [],
   "source": [
    "def remove_duplicates(ori):\n",
    "    new=[]                 #新建一個列表,以防止原來的列表被損壞\n",
    "    for i in ori:          #歷遍原來的列表\n",
    "        if i not in new:   #如果這個元素不在新表內,則加入\n",
    "            new.append(i)\n",
    "    return new\n"
   ]
  },
  {
   "cell_type": "code",
   "execution_count": 5,
   "metadata": {},
   "outputs": [
    {
     "name": "stdout",
     "output_type": "stream",
     "text": [
      "[[[ 60.           0.           0.           0.        ]\n",
      "  [ 60.           0.           0.           0.        ]\n",
      "  [ 60.           0.           0.           0.        ]\n",
      "  ...\n",
      "  [354.96635326   0.           0.           0.        ]\n",
      "  [362.13714926   0.           0.           0.        ]\n",
      "  [369.45280495   0.           0.           0.        ]]\n",
      "\n",
      " [[  0.           0.           0.           0.        ]\n",
      "  [ 60.           0.           0.           0.        ]\n",
      "  [ 60.           0.           0.           0.        ]\n",
      "  ...\n",
      "  [347.93754853 341.04792346   0.           0.        ]\n",
      "  [354.96635326 347.93754853   0.           0.        ]\n",
      "  [362.13714926 354.96635326   0.           0.        ]]\n",
      "\n",
      " [[  0.           0.           0.           0.        ]\n",
      "  [  0.           0.           0.           0.        ]\n",
      "  [ 60.           0.           0.           0.        ]\n",
      "  ...\n",
      "  [341.04792346 334.29472211 327.67524311   0.        ]\n",
      "  [347.93754853 341.04792346 334.29472211   0.        ]\n",
      "  [354.96635326 347.93754853 341.04792346   0.        ]]\n",
      "\n",
      " ...\n",
      "\n",
      " [[  0.           0.           0.           0.        ]\n",
      "  [  0.           0.           0.           0.        ]\n",
      "  [  0.           0.           0.           0.        ]\n",
      "  ...\n",
      "  [ 60.           0.           0.           0.        ]\n",
      "  [ 60.           0.           0.           0.        ]\n",
      "  [ 60.           0.           0.           0.        ]]\n",
      "\n",
      " [[  0.           0.           0.           0.        ]\n",
      "  [  0.           0.           0.           0.        ]\n",
      "  [  0.           0.           0.           0.        ]\n",
      "  ...\n",
      "  [  0.           0.           0.           0.        ]\n",
      "  [ 60.           0.           0.           0.        ]\n",
      "  [ 60.           0.           0.           0.        ]]\n",
      "\n",
      " [[  0.           0.           0.           0.        ]\n",
      "  [  0.           0.           0.           0.        ]\n",
      "  [  0.           0.           0.           0.        ]\n",
      "  ...\n",
      "  [  0.           0.           0.           0.        ]\n",
      "  [  0.           0.           0.           0.        ]\n",
      "  [ 60.           0.           0.           0.        ]]]\n"
     ]
    }
   ],
   "source": [
    "\n",
    "\n",
    "Smax = np.zeros((n+1,n+1,2*n+3))\n",
    "\n",
    "for j in range(0,n+1):\n",
    "    for i in range(0,j+1): \n",
    "        if i == j:\n",
    "            Smax[i,j,0] = max(maxstart,St[i,j])      #對角線判斷         \n",
    "        elif i == 0 & j>0:\n",
    "            Smax[i,j,0] = max(Smax[i,j-1,0],St[i,j],maxstart)  #row1判斷\n",
    "        else:\n",
    "            upparent = inheritfunc(Smax[i-1,j-1,:],max(St[i,j],maxstart))\n",
    "            downparent = inheritfunc(Smax[i,j-1,:],max(St[i,j],maxstart))\n",
    "\n",
    "            parentall = np.concatenate((upparent,downparent),axis=0) # column接續\n",
    "            parentall = remove_duplicates(parentall)\n",
    "            Smax[i,j,np.arange(len(parentall))] = parentall\n",
    "\n",
    "print(Smax[:,:,[0,1,2,3]])\n"
   ]
  },
  {
   "cell_type": "markdown",
   "metadata": {},
   "source": [
    "# Backward induction\n",
    "put還要修正，這樣的作法是American每期都要看。 講義上會看如何從後往前推"
   ]
  },
  {
   "cell_type": "code",
   "execution_count": 6,
   "metadata": {},
   "outputs": [],
   "source": [
    "def usputprocess(Smaxij,putij,checkvalue):  # Smax = checkvalue時候的put的價值\n",
    "    for k in range(len(Smaxij)):\n",
    "        if abs(Smaxij[k] - checkvalue)<10**(-4):  #避免計算上些許的誤差\n",
    "            #print(\"第\",k+1,\"項\")\n",
    "            return putij[k]\n",
    "            break\n",
    "        k = k+1"
   ]
  },
  {
   "cell_type": "code",
   "execution_count": 7,
   "metadata": {
    "scrolled": true
   },
   "outputs": [
    {
     "data": {
      "text/plain": [
       "array([[[10.91576951,  0.        ,  0.        ,  0.        ],\n",
       "        [10.37001054,  0.        ,  0.        ,  0.        ],\n",
       "        [ 9.87205213,  0.        ,  0.        ,  0.        ],\n",
       "        ...,\n",
       "        [ 5.25228477,  0.        ,  0.        ,  0.        ],\n",
       "        [ 3.5755367 ,  0.        ,  0.        ,  0.        ],\n",
       "        [ 0.        ,  0.        ,  0.        ,  0.        ]],\n",
       "\n",
       "       [[ 0.        ,  0.        ,  0.        ,  0.        ],\n",
       "        [11.46973753,  0.        ,  0.        ,  0.        ],\n",
       "        [10.87566471,  0.        ,  0.        ,  0.        ],\n",
       "        ...,\n",
       "        [ 8.48081891,  5.04633974,  0.        ,  0.        ],\n",
       "        [ 6.94007423,  3.4353379 ,  0.        ,  0.        ],\n",
       "        [ 7.170796  ,  0.        ,  0.        ,  0.        ]],\n",
       "\n",
       "       [[ 0.        ,  0.        ,  0.        ,  0.        ],\n",
       "        [ 0.        ,  0.        ,  0.        ,  0.        ],\n",
       "        [12.07253939,  0.        ,  0.        ,  0.        ],\n",
       "        ...,\n",
       "        [13.20219902,  8.14828125,  4.84846993,  0.        ],\n",
       "        [13.5558529 ,  6.66795003,  3.30063637,  0.        ],\n",
       "        [13.91842979,  6.88962507,  0.        ,  0.        ]],\n",
       "\n",
       "       ...,\n",
       "\n",
       "       [[ 0.        ,  0.        ,  0.        ,  0.        ],\n",
       "        [ 0.        ,  0.        ,  0.        ,  0.        ],\n",
       "        [ 0.        ,  0.        ,  0.        ,  0.        ],\n",
       "        ...,\n",
       "        [52.92708645,  0.        ,  0.        ,  0.        ],\n",
       "        [52.79980439,  0.        ,  0.        ,  0.        ],\n",
       "        [52.66965189,  0.        ,  0.        ,  0.        ]],\n",
       "\n",
       "       [[ 0.        ,  0.        ,  0.        ,  0.        ],\n",
       "        [ 0.        ,  0.        ,  0.        ,  0.        ],\n",
       "        [ 0.        ,  0.        ,  0.        ,  0.        ],\n",
       "        ...,\n",
       "        [ 0.        ,  0.        ,  0.        ,  0.        ],\n",
       "        [53.08154001,  0.        ,  0.        ,  0.        ],\n",
       "        [52.95707895,  0.        ,  0.        ,  0.        ]],\n",
       "\n",
       "       [[ 0.        ,  0.        ,  0.        ,  0.        ],\n",
       "        [ 0.        ,  0.        ,  0.        ,  0.        ],\n",
       "        [ 0.        ,  0.        ,  0.        ,  0.        ],\n",
       "        ...,\n",
       "        [ 0.        ,  0.        ,  0.        ,  0.        ],\n",
       "        [ 0.        ,  0.        ,  0.        ,  0.        ],\n",
       "        [53.23323584,  0.        ,  0.        ,  0.        ]]])"
      ]
     },
     "execution_count": 7,
     "metadata": {},
     "output_type": "execute_result"
    }
   ],
   "source": [
    "#column從倒數地2(n-1)開始，裡面是row從0開始\n",
    "#歐式\n",
    "put = np.zeros((n+1,n+1,2*n+3))\n",
    "for j in range(0,n+1):\n",
    "    j = n-j\n",
    "    for i in range(0,j+1):  \n",
    "        #print(i,j)\n",
    "        if j == n:  #最後一期(col)的資料\n",
    "            check = (Smax[i,j,:]>St[i,j])\n",
    "            lastcolvalue = Smax[i,j,:][check]-St[i,j]\n",
    "            put[i,j,np.arange(len(lastcolvalue))] = lastcolvalue\n",
    "        else:\n",
    "            for k in range(0,2*n+3): #第三維度放入每一筆的\n",
    "                if Smax[i,j,k]>0:\n",
    "                    if Smax[i,j,k] in Smax[i,j+1,:] : #up:當下Smax =下一期Smax \n",
    "                        #upparent = Smax[i,j,k]-St[i,j]*u\n",
    "                        upparent = usputprocess(Smax[i,j+1,:],put[i,j+1,:],Smax[i,j,k])\n",
    "                    else:   #up:當下Smax < 下一期Smax Smax = St*u\n",
    "                        #print(\"Smax值:\",Smax[i,j,k],\"應該要是:\",usputprocess(Smax[i,j+1,:],put[i,j+1,:],St[i][j]*u))\n",
    "                        upparent = usputprocess(Smax[i,j+1,:],put[i,j+1,:],St[i][j]*u)\n",
    "                        #upparent = 0\n",
    "                    #downparent = Smax[i,j,k]-St[i,j]*d\n",
    "                    downparent = usputprocess(Smax[i+1,j+1,:],put[i+1,j+1,:],Smax[i,j,k])\n",
    "                    put[i,j,k] = (p*upparent +(1-p)*downparent)*np.exp(-r*dt)\n",
    "                    #print(put[i,j,k],upparent,downparent)\n",
    "europut = put\n",
    "europut[:,:,[0,1,2,3]]"
   ]
  },
  {
   "cell_type": "code",
   "execution_count": 8,
   "metadata": {},
   "outputs": [],
   "source": [
    "#column從倒數地2(n-1)開始，裡面是row從0開始\n",
    "#美式\n",
    "put = np.zeros((n+1,n+1,2*n+3))\n",
    "for j in range(0,n+1):\n",
    "    j = n-j\n",
    "    for i in range(0,j+1):  \n",
    "        #print(i,j)\n",
    "        if j == n:  #最後一期(col)的資料\n",
    "            check = (Smax[i,j,:]>St[i,j])\n",
    "            lastcolvalue = Smax[i,j,:][check]-St[i,j]\n",
    "            put[i,j,np.arange(len(lastcolvalue))] = lastcolvalue\n",
    "        else:\n",
    "            for k in range(0,2*n+3): #第三維度放入每一筆的\n",
    "                if Smax[i,j,k]>0:\n",
    "                    if Smax[i,j,k] in Smax[i,j+1,:] : #up:當下Smax =下一期Smax \n",
    "                        #upparent = Smax[i,j,k]-St[i,j]*u\n",
    "                        upparent = usputprocess(Smax[i,j+1,:],put[i,j+1,:],Smax[i,j,k])\n",
    "                    else:   #up:當下Smax < 下一期Smax Smax = St*u\n",
    "                        #print(\"Smax值:\",Smax[i,j,k],\"應該要是:\",usputprocess(Smax[i,j+1,:],put[i,j+1,:],St[i][j]*u))\n",
    "                        upparent = usputprocess(Smax[i,j+1,:],put[i,j+1,:],St[i][j]*u)\n",
    "                        #upparent = 0\n",
    "                    #downparent = Smax[i,j,k]-St[i,j]*d\n",
    "                    downparent = usputprocess(Smax[i+1,j+1,:],put[i+1,j+1,:],Smax[i,j,k])\n",
    "                    put[i,j,k] = (p*upparent +(1-p)*downparent)*np.exp(-r*dt)\n",
    "                    put[i,j,k] = max( put[i,j,k],Smax[i,j,k]-St[i,j])  #美式條件\n",
    "                    #print(put[i,j,k],upparent,downparent)\n",
    "USput = put\n",
    "# USput[:,:,[0,1,2,3]]"
   ]
  },
  {
   "cell_type": "code",
   "execution_count": 17,
   "metadata": {},
   "outputs": [
    {
     "data": {
      "text/plain": [
       "11.37302176523931"
      ]
     },
     "execution_count": 17,
     "metadata": {},
     "output_type": "execute_result"
    }
   ],
   "source": [
    "USput[0][0][0]"
   ]
  },
  {
   "cell_type": "markdown",
   "metadata": {},
   "source": [
    "# Monte Carlo Simulation"
   ]
  },
  {
   "cell_type": "code",
   "execution_count": 9,
   "metadata": {
    "scrolled": true
   },
   "outputs": [
    {
     "name": "stdout",
     "output_type": "stream",
     "text": [
      "Monte Carlo的值:10.879459 \n",
      "95%信賴區間:(10.747427,11.011490)\n"
     ]
    }
   ],
   "source": [
    "#n = 5\n",
    "#numsim = 10\n",
    "def MCsimpathput(s0,r,q,sigma,dt,numsim,n):\n",
    "    stockpath = np.zeros((numsim,n))\n",
    "    for i in range(n):\n",
    "        if i == 0:\n",
    "            stockpath[:,i] = np.random.normal(loc=np.log(s0)+(r-q - sigma**2 /2)*dt, scale=sigma*np.sqrt(dt),size =numsim)\n",
    "        else:\n",
    "            stockpath[:,i] = np.random.normal((r-q - sigma**2 /2)*dt, sigma*np.sqrt(dt),numsim) + stockpath[:,i-1]\n",
    "    stockpath = np.exp(stockpath)\n",
    "    stockpath = np.hstack( (stockpath, np.array([maxstart]*numsim).reshape(numsim,1) ) )\n",
    "    #print(np.hstack( (stockpath, np.array([maxstart]*numsim).reshape(numsim,1) ) )  )\n",
    "    #print(np.max(stockpath,axis=1))\n",
    "    futureputprice = np.max(stockpath,axis=1)-stockpath[:,-2] #axis=1這個軸的座標變動，而其他軸固定\n",
    "    #print(futureputprice)\n",
    "    return np.mean(np.exp(-r*(T-t0))*futureputprice) \n",
    "\n",
    "mcresult = []\n",
    "for i in range(numrep):\n",
    "    mcresult.append(MCsimpathput(s0,r,q,sigma,dt,numsim,n))\n",
    "\n",
    "pmn = np.mean(mcresult)\n",
    "psd = np.std(mcresult)\n",
    "print('Monte Carlo的值:%f \\n95%%信賴區間:(%f,%f)' %(pmn,pmn-psd*2,pmn+psd*2))"
   ]
  },
  {
   "cell_type": "code",
   "execution_count": 10,
   "metadata": {},
   "outputs": [
    {
     "data": {
      "text/plain": [
       "array([[0, 0, 0],\n",
       "       [1, 2, 3]])"
      ]
     },
     "execution_count": 10,
     "metadata": {},
     "output_type": "execute_result"
    }
   ],
   "source": [
    "np.vstack((np.array([0]*3).T,np.array([1,2,3])))"
   ]
  },
  {
   "cell_type": "markdown",
   "metadata": {},
   "source": [
    "# Bonus1:\n",
    "* Smax list new way \n",
    "* 考慮股價上漲次數範圍\n",
    "<img src=\"HW4Bonus1new.JPG\" width=\"600\" height=\"600\" >"
   ]
  },
  {
   "cell_type": "code",
   "execution_count": 14,
   "metadata": {
    "scrolled": false
   },
   "outputs": [
    {
     "name": "stdout",
     "output_type": "stream",
     "text": [
      "[[[0. 0. 0. 0.]\n",
      "  [0. 0. 0. 0.]\n",
      "  [0. 0. 0. 0.]\n",
      "  ...\n",
      "  [0. 0. 0. 0.]\n",
      "  [0. 0. 0. 0.]\n",
      "  [0. 0. 0. 0.]]\n",
      "\n",
      " [[0. 0. 0. 0.]\n",
      "  [0. 0. 0. 0.]\n",
      "  [0. 0. 0. 0.]\n",
      "  ...\n",
      "  [0. 0. 0. 0.]\n",
      "  [0. 0. 0. 0.]\n",
      "  [0. 0. 0. 0.]]\n",
      "\n",
      " [[0. 0. 0. 0.]\n",
      "  [0. 0. 0. 0.]\n",
      "  [0. 0. 0. 0.]\n",
      "  ...\n",
      "  [0. 0. 0. 0.]\n",
      "  [0. 0. 0. 0.]\n",
      "  [0. 0. 0. 0.]]\n",
      "\n",
      " ...\n",
      "\n",
      " [[0. 0. 0. 0.]\n",
      "  [0. 0. 0. 0.]\n",
      "  [0. 0. 0. 0.]\n",
      "  ...\n",
      "  [0. 0. 0. 0.]\n",
      "  [0. 0. 0. 0.]\n",
      "  [0. 0. 0. 0.]]\n",
      "\n",
      " [[0. 0. 0. 0.]\n",
      "  [0. 0. 0. 0.]\n",
      "  [0. 0. 0. 0.]\n",
      "  ...\n",
      "  [0. 0. 0. 0.]\n",
      "  [0. 0. 0. 0.]\n",
      "  [0. 0. 0. 0.]]\n",
      "\n",
      " [[0. 0. 0. 0.]\n",
      "  [0. 0. 0. 0.]\n",
      "  [0. 0. 0. 0.]\n",
      "  ...\n",
      "  [0. 0. 0. 0.]\n",
      "  [0. 0. 0. 0.]\n",
      "  [0. 0. 0. 0.]]]\n"
     ]
    }
   ],
   "source": [
    "import math\n",
    "\n",
    "newSmax = np.zeros((n+1,n+1,math.floor(n/2)+1))\n",
    "\n",
    "for j in range(0,n+1):\n",
    "    for i in range(0,j+1):\n",
    "        utop = max(j-i,0)\n",
    "        udown = max(j-2*i,0)\n",
    "        addlist=[]\n",
    "        if utop > 0:\n",
    "            addlist = np.array([s0*u**(utop-i) for i in range(0,utop-udown+1)])  #由大排到小utop--udown       \n",
    "            addlist = addlist[addlist>=maxstart]\n",
    "            #print(addlist)\n",
    "            #print(len(addlist))\n",
    "            if  len(addlist)==0:\n",
    "                \n",
    "                addlist = np.append(addlist,maxstart)\n",
    "        else:  #路徑最大上漲次數為0\n",
    "            addlist = np.append(addlist,max(s0,maxstart))\n",
    "#             print(addlist)\n",
    "        if len(addlist)<1:\n",
    "            print(\"nononono\",i,j)\n",
    "        #print(addlist)\n",
    "        newSmax[i,j,np.arange(len(addlist))] = addlist\n",
    "\n",
    "print(newSmax[:,:,[0,1,2,3]]-Smax[:,:,[0,1,2,3]])"
   ]
  },
  {
   "cell_type": "markdown",
   "metadata": {},
   "source": [
    "# Bonus2\n",
    "* <img src=\"HW4Bonus2.JPG\" width=\"600\" height=\"600\" >\n",
    "* <img src=\"newprob.JPG\" width=\"600\" height=\"600\" >"
   ]
  },
  {
   "cell_type": "markdown",
   "metadata": {},
   "source": [
    "### 歐式"
   ]
  },
  {
   "cell_type": "code",
   "execution_count": 12,
   "metadata": {
    "scrolled": true
   },
   "outputs": [
    {
     "data": {
      "text/plain": [
       "7.236947653488916"
      ]
     },
     "execution_count": 12,
     "metadata": {},
     "output_type": "execute_result"
    }
   ],
   "source": [
    "mu = np.exp((r-q)*dt)\n",
    "mu\n",
    "rr = np.exp(r*dt) #折現率\n",
    "qq = (mu*u-1)/(mu*(u-d)) #新的測度空間中的上漲機率\n",
    "\n",
    "V = np.zeros((n+1,n+1))\n",
    "V[:,n] = [ max(u**(i)-1,0) for i in range(n+1)]\n",
    "\n",
    "for j in range(n):\n",
    "    j = n-1-j  #n-1 to 0 共n col\n",
    "    for i in range(j+1):\n",
    "        if i ==0:\n",
    "            V[i,j] = ((1-qq)*V[1,j+1]+qq*V[0,j+1])*mu/rr\n",
    "        else:\n",
    "            V[i,j] = ((1-qq)*V[i+1,j+1]+qq*V[i-1,j+1])*mu/rr\n",
    "V[0,0]*St[0,0]\n",
    "\n",
    "\n"
   ]
  },
  {
   "cell_type": "markdown",
   "metadata": {},
   "source": [
    "### 美式"
   ]
  },
  {
   "cell_type": "code",
   "execution_count": 13,
   "metadata": {},
   "outputs": [
    {
     "data": {
      "text/plain": [
       "7.439574213907972"
      ]
     },
     "execution_count": 13,
     "metadata": {},
     "output_type": "execute_result"
    }
   ],
   "source": [
    "V = np.zeros((n+1,n+1))\n",
    "V[:,n] = [ max(u**(i)-1,0) for i in range(n+1)]\n",
    "#V[:,n] = V[:,n] * St[:,n]\n",
    "#def bonus2euput(i,j):\n",
    "#    return max(V[i,j]-1,0)*St[i,j]\n",
    "\n",
    "for j in range(n):\n",
    "    j = n-1-j  #n-1 to 0 共n col\n",
    "    for i in range(j+1):\n",
    "        if i ==0:\n",
    "            V[i,j] = max( ((1-qq)*V[1,j+1]+qq*V[0,j+1])*mu/rr , u**(i)-1)\n",
    "        else:\n",
    "            V[i,j] =max( ((1-qq)*V[i+1,j+1]+qq*V[i-1,j+1])*mu/rr , u**(i)-1)\n",
    "            \n",
    "V[0,0]*St[0,0]\n"
   ]
  }
 ],
 "metadata": {
  "kernelspec": {
   "display_name": "Python 3",
   "language": "python",
   "name": "python3"
  },
  "language_info": {
   "codemirror_mode": {
    "name": "ipython",
    "version": 3
   },
   "file_extension": ".py",
   "mimetype": "text/x-python",
   "name": "python",
   "nbconvert_exporter": "python",
   "pygments_lexer": "ipython3",
   "version": "3.6.5"
  }
 },
 "nbformat": 4,
 "nbformat_minor": 2
}
