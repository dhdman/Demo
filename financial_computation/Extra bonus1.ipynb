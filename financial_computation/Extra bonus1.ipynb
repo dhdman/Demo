{
 "cells": [
  {
   "cell_type": "markdown",
   "metadata": {},
   "source": [
    "# Extra Bonus 1\n",
    "* 期末交\n",
    "* 要看未來的implied volatility"
   ]
  },
  {
   "cell_type": "code",
   "execution_count": null,
   "metadata": {},
   "outputs": [],
   "source": [
    "import numpy as np\n",
    "from scipy.stats import norm"
   ]
  },
  {
   "cell_type": "code",
   "execution_count": null,
   "metadata": {},
   "outputs": [],
   "source": [
    "s0 = 100\n",
    "K = 10\n",
    "T = 0.5\n",
    "r = 0.02\n",
    "q = 0.02\n",
    "mktprice ="
   ]
  },
  {
   "cell_type": "code",
   "execution_count": null,
   "metadata": {},
   "outputs": [],
   "source": [
    "def v(sigma):\n",
    "    return (np.log(s0/K)+(r-q + sigma**2 /2)*T ) / (sigma*np.sqrt(T))\n",
    "def d(sigma):\n",
    "    return (np.log(s0/K)+(r-q - sigma**2 /2)*T ) / (sigma*np.sqrt(T))\n",
    "def blackprice(sigma): \n",
    "    return s0*np.exp(-q*T)*norm.cdf(v(K)) - np.exp(-r*T)*K*norm.cdf(d(K))"
   ]
  },
  {
   "cell_type": "code",
   "execution_count": null,
   "metadata": {},
   "outputs": [],
   "source": [
    "def f():\n",
    "    blackprice()-mktprice\n",
    "def vegaf(a,h):\n",
    "    (f(a+h)-f(a)) / h"
   ]
  },
  {
   "cell_type": "code",
   "execution_count": null,
   "metadata": {},
   "outputs": [],
   "source": [
    "def bisectiont(a,b,convnum):\n",
    "    while abs(a-b)>convnum:\n",
    "    if f(a)*f(b)<0:\n",
    "        x = a+(b-a0/2)\n",
    "        if f(a)*f(b)"
   ]
  },
  {
   "cell_type": "code",
   "execution_count": 1,
   "metadata": {},
   "outputs": [
    {
     "data": {
      "text/plain": [
       "1"
      ]
     },
     "execution_count": 1,
     "metadata": {},
     "output_type": "execute_result"
    }
   ],
   "source": [
    "def newtont(a,b,convnum):\n",
    "    while abs(f(x))>convnum:\n",
    "        x = x - f(x)/df(x)"
   ]
  },
  {
   "cell_type": "code",
   "execution_count": null,
   "metadata": {},
   "outputs": [],
   "source": []
  }
 ],
 "metadata": {
  "kernelspec": {
   "display_name": "Python 3",
   "language": "python",
   "name": "python3"
  },
  "language_info": {
   "codemirror_mode": {
    "name": "ipython",
    "version": 3
   },
   "file_extension": ".py",
   "mimetype": "text/x-python",
   "name": "python",
   "nbconvert_exporter": "python",
   "pygments_lexer": "ipython3",
   "version": "3.6.8"
  }
 },
 "nbformat": 4,
 "nbformat_minor": 2
}
