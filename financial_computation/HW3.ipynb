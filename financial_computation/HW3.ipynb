{
 "cells": [
  {
   "cell_type": "markdown",
   "metadata": {},
   "source": [
    "# 參數輸入\n",
    "* 記得covariance matrix 項中要乘上T\n",
    "* array col合併 np.hstack"
   ]
  },
  {
   "cell_type": "code",
   "execution_count": 1,
   "metadata": {},
   "outputs": [
    {
     "data": {
      "text/plain": [
       "array([[ 0.0025  ,  0.0005  ,  0.000115, -0.0003  ,  0.0006  ],\n",
       "       [ 0.0005  ,  0.01    ,  0.00092 ,  0.0006  , -0.0015  ],\n",
       "       [ 0.000115,  0.00092 ,  0.0529  ,  0.0023  , -0.00483 ],\n",
       "       [-0.0003  ,  0.0006  ,  0.0023  ,  0.04    ,  0.0054  ],\n",
       "       [ 0.0006  , -0.0015  , -0.00483 ,  0.0054  ,  0.09    ]])"
      ]
     },
     "execution_count": 1,
     "metadata": {},
     "output_type": "execute_result"
    }
   ],
   "source": [
    "import numpy as np\n",
    "s0 = np.array([100,90,80,110,120]) #vector\n",
    "K = 100\n",
    "numsim = 10000\n",
    "numrep = 20\n",
    "T = 1\n",
    "r = 0.5\n",
    "n = 5   #股票的種類\n",
    "q = np.array([0.4,0.35,0.3,0.2,0.38])\n",
    "sigma =np.array( [0.05,0.1,0.23,0.2,0.3] )#vector\n",
    "corr= [] #matrix\n",
    "\n",
    "corr=np.array([\n",
    "    [1, 0.1, 0.01,-0.03,0.04],\n",
    "    [0, 1, 0.04,0.03,-0.05],\n",
    "    [0, 0, 1, 0.05 , -0.07],\n",
    "    [0, 0, 0 ,1 , 0.09],\n",
    "    [0, 0, 0, 0 , 1]\n",
    "])\n",
    "corr = corr.T+corr-np.identity(5)\n",
    "#抓column一排很麻煩 要先轉置在抓\n",
    "covmat = (np.transpose([sigma]).dot([sigma])) * corr *T\n",
    "covmat"
   ]
  },
  {
   "cell_type": "code",
   "execution_count": 2,
   "metadata": {},
   "outputs": [
    {
     "data": {
      "text/plain": [
       "array([[0.125, 0.125],\n",
       "       [0.125, 0.125]])"
      ]
     },
     "execution_count": 2,
     "metadata": {},
     "output_type": "execute_result"
    }
   ],
   "source": [
    "s0 = np.array([95]*2) #vector\n",
    "K = 100\n",
    "numsim = 10000\n",
    "numrep = 20\n",
    "T = 0.5\n",
    "r = 0.1\n",
    "n = 2   #股票的種類\n",
    "q = np.array([0.05]*2)\n",
    "sigma =np.array( [0.5]*2 )#vector\n",
    "corr= [] #matrix\n",
    "\n",
    "corr=np.array([\n",
    "    [1,1],\n",
    "    [0,1]\n",
    "])\n",
    "corr = corr.T+corr-np.identity(n)\n",
    "#抓column一排很麻煩 要先轉置在抓\n",
    "covmat = (np.transpose([sigma]).dot([sigma])) * corr *T\n",
    "covmat"
   ]
  },
  {
   "cell_type": "code",
   "execution_count": 3,
   "metadata": {},
   "outputs": [
    {
     "data": {
      "text/plain": [
       "array([[ 0.125, -0.125],\n",
       "       [-0.125,  0.125]])"
      ]
     },
     "execution_count": 3,
     "metadata": {},
     "output_type": "execute_result"
    }
   ],
   "source": [
    "s0 = np.array([95]*2) #vector\n",
    "K = 100\n",
    "numsim = 10000\n",
    "numrep = 20\n",
    "T = 0.5\n",
    "r = 0.1\n",
    "n = 2   #股票的種類\n",
    "q = np.array([0.05]*2)\n",
    "sigma =np.array( [0.5]*2 )#vector\n",
    "corr= [] #matrix\n",
    "\n",
    "corr=np.array([\n",
    "    [1,-1],\n",
    "    [0,1]\n",
    "])\n",
    "corr = corr.T+corr-np.identity(n)\n",
    "#抓column一排很麻煩 要先轉置在抓\n",
    "covmat = (np.transpose([sigma]).dot([sigma])) * corr *T\n",
    "covmat"
   ]
  },
  {
   "cell_type": "code",
   "execution_count": 4,
   "metadata": {},
   "outputs": [
    {
     "data": {
      "text/plain": [
       "array([[0.125 , 0.0625, 0.0625, 0.0625, 0.0625],\n",
       "       [0.0625, 0.125 , 0.0625, 0.0625, 0.0625],\n",
       "       [0.0625, 0.0625, 0.125 , 0.0625, 0.0625],\n",
       "       [0.0625, 0.0625, 0.0625, 0.125 , 0.0625],\n",
       "       [0.0625, 0.0625, 0.0625, 0.0625, 0.125 ]])"
      ]
     },
     "execution_count": 4,
     "metadata": {},
     "output_type": "execute_result"
    }
   ],
   "source": [
    "import numpy as np\n",
    "s0 = np.array([95]*5) #vector\n",
    "K = 100\n",
    "numsim = 10000\n",
    "numrep = 20\n",
    "T = 0.5\n",
    "r = 0.1\n",
    "n = 5   #股票的種類\n",
    "q = np.array([0.05]*5)\n",
    "sigma =np.array( [0.5]*5 )#vector\n",
    "corr= [] #matrix\n",
    "\n",
    "corr=np.array([\n",
    "    [1, 0.5, 0.5,0.5,0.5],\n",
    "    [0, 1, 0.5,0.5,0.5],\n",
    "    [0, 0, 1, 0.5 , 0.5],\n",
    "    [0, 0, 0 ,1 , 0.5],\n",
    "    [0, 0, 0, 0 , 1]\n",
    "])\n",
    "corr = corr.T+corr-np.identity(n)\n",
    "#抓column一排很麻煩 要先轉置在抓\n",
    "covmat = (np.transpose([sigma]).dot([sigma])) * corr *T\n",
    "covmat"
   ]
  },
  {
   "cell_type": "markdown",
   "metadata": {},
   "source": [
    "# Cholesky decomposition:\n",
    "* $C=A^T * A$"
   ]
  },
  {
   "cell_type": "code",
   "execution_count": 5,
   "metadata": {},
   "outputs": [],
   "source": [
    "def choldecomp(covmat):\n",
    "    n = len(covmat)\n",
    "    A = np.eye(n, dtype = 'float')\n",
    "    for Arow in range(n+1):\n",
    "        for Acol in range(n+1):\n",
    "            if Arow ==1:\n",
    "                if Acol == Arow:\n",
    "                    A[Arow-1][Arow-1] = np.sqrt(covmat[Arow-1][Arow-1])\n",
    "                else:\n",
    "                    A[Arow-1][Acol-1] = covmat[Arow-1][Acol-1] / A[Arow-1][Arow-1]\n",
    "            else:\n",
    "                if Acol == Arow:\n",
    "                    res = sum(A.T[Arow-1][range(Arow-1)]**2)\n",
    "                    A[Arow-1][Arow-1] = np.sqrt( covmat[Arow-1][Arow-1]-res )\n",
    "                else:\n",
    "                    res = sum(A.T[Arow-1][range(Arow-1)]*A.T[Acol-1][range(Arow-1)])\n",
    "                    A[Arow-1][Acol-1] = (covmat[Arow-1][Acol-1]-res) / A[Arow-1][Arow-1]\n",
    "    return A\n",
    "cholmat = choldecomp(covmat)\n"
   ]
  },
  {
   "cell_type": "markdown",
   "metadata": {},
   "source": [
    "# Rainbow option計算函數"
   ]
  },
  {
   "cell_type": "markdown",
   "metadata": {},
   "source": [
    "# 公式:\n",
    "$ \n",
    "[Z_1,Z_2,...]*A = Z*A = [r1,r2,...] \\quad 再加上+[\\mu_1,\\mu_2,...]  \\\\\n",
    "e^{上式} = [S_{1T},S_{2T},...]\n",
    "$"
   ]
  },
  {
   "cell_type": "raw",
   "metadata": {},
   "source": [
    "def rainbowpricecount(sample,covmat):\n",
    "    logmu = np.log(s0)+(r-q-sigma**2 /2)*T\n",
    "    StMCsample = sample.dot(choldecomp(covmat)) + np.ones([numsim,n]).dot(np.diag(logmu)) \n",
    "    StMCsample = np.exp(StMCsample)\n",
    "    print(StMCsample)\n",
    "    \n",
    "    rainbowprice = [[]]*numsim\n",
    "\n",
    "    for i in range(len(StMCsample)):\n",
    "        rainbowprice[i] = max( max(StMCsample[i])-K , 0 )\n",
    "        #print(rainbowprice[i],end='')\n",
    "    pricemn = np.mean(rainbowprice)\n",
    "    pricestd = np.std(rainbowprice)/np.sqrt(numsim)\n",
    "    print(pricemn)\n",
    "    print(\"Rainbow option價格95%%信賴區間為=(%f,%f)\" %(pricemn-2*pricestd,pricemn+2*pricestd))"
   ]
  },
  {
   "cell_type": "code",
   "execution_count": 6,
   "metadata": {},
   "outputs": [],
   "source": [
    "def M2rainbowpricecount(sample,cholmat):\n",
    "    logmu = np.log(s0)+(r-q-sigma**2 /2)*T\n",
    "    StMCsample = sample.dot(cholmat) + np.ones([numsim,n]).dot(np.diag(logmu)) \n",
    "    StMCsample = np.exp(StMCsample)\n",
    "    rainbowprice = [[]]*numsim\n",
    "    for i in range(len(StMCsample)):\n",
    "        rainbowprice[i] = max( max(StMCsample[i])-K , 0 )*np.exp(-r*T)\n",
    "    return np.mean(rainbowprice)"
   ]
  },
  {
   "cell_type": "code",
   "execution_count": 7,
   "metadata": {},
   "outputs": [
    {
     "data": {
      "text/plain": [
       "0.951229424500714"
      ]
     },
     "execution_count": 7,
     "metadata": {},
     "output_type": "execute_result"
    }
   ],
   "source": [
    "np.exp(-r*T)"
   ]
  },
  {
   "cell_type": "markdown",
   "metadata": {},
   "source": [
    "# Bonus1\n",
    "* 取一半z1,-z1"
   ]
  },
  {
   "cell_type": "code",
   "execution_count": 8,
   "metadata": {
    "scrolled": true
   },
   "outputs": [],
   "source": [
    "def antisamplegen(Z01normsample):\n",
    "    antivanormsample = Z01normsample[:][[range(int(numsim/2))]]\n",
    "    antivanormsample = np.concatenate((antivanormsample,-antivanormsample),axis=0)\n",
    "    antivamn = np.mean(antivanormsample)\n",
    "    antivastd = np.std(antivanormsample)\n",
    "    antivanormsample = (antivanormsample-antivamn)/antivastd\n",
    "    return antivanormsample"
   ]
  },
  {
   "cell_type": "markdown",
   "metadata": {},
   "source": [
    "# Bonus2\n",
    "* 先將抽樣模擬成真正的無相關性"
   ]
  },
  {
   "cell_type": "code",
   "execution_count": 9,
   "metadata": {},
   "outputs": [],
   "source": [
    "def invcholgen(Z01normsample):\n",
    "    antivanormsample = Z01normsample[:][[range(int(numsim/2))]]\n",
    "    antivanormsample = np.concatenate((antivanormsample,-antivanormsample),axis=0)\n",
    "    A = choldecomp(np.cov(antivanormsample.T))\n",
    "    A_inv = np.linalg.inv(A)\n",
    "    invcholsample = antivanormsample.dot(A_inv)\n",
    "    return invcholsample"
   ]
  },
  {
   "cell_type": "markdown",
   "metadata": {},
   "source": [
    "# 所有抽樣一起做"
   ]
  },
  {
   "cell_type": "code",
   "execution_count": 10,
   "metadata": {},
   "outputs": [
    {
     "name": "stdout",
     "output_type": "stream",
     "text": [
      "基本抽樣: 30.260046\n",
      "Rainbow option價格95%信賴區間為=(29.713699,30.806394)\n",
      "bonus1: 30.380134\n",
      "Rainbow option價格95%信賴區間為=(30.259330,30.500937)\n",
      "bonus2: 30.390381\n",
      "Rainbow option價格95%信賴區間為=(30.281810,30.498953)\n"
     ]
    }
   ],
   "source": [
    "rainbowprice = []\n",
    "bonus1 = []\n",
    "bonus2 = []\n",
    "for i in range(numrep):\n",
    "    Z01normsample = np.random.normal(0,1,numsim*n).reshape(numsim,n)\n",
    "    rainbowprice.append( M2rainbowpricecount(Z01normsample,cholmat) )\n",
    "    bonus1.append( M2rainbowpricecount(antisamplegen(Z01normsample),cholmat) )\n",
    "    bonus2.append( M2rainbowpricecount(invcholgen(Z01normsample),cholmat) )\n",
    "pricemn = np.mean(rainbowprice)\n",
    "pricestd = np.std(rainbowprice) \n",
    "print(\"基本抽樣: %f\" %pricemn)\n",
    "print(\"Rainbow option價格95%%信賴區間為=(%f,%f)\" %(pricemn-2*pricestd,pricemn+2*pricestd))\n",
    "rainbowprice = bonus1\n",
    "pricemn = np.mean(rainbowprice)\n",
    "pricestd = np.std(rainbowprice) \n",
    "print(\"bonus1: %f\" %pricemn)\n",
    "print(\"Rainbow option價格95%%信賴區間為=(%f,%f)\" %(pricemn-2*pricestd,pricemn+2*pricestd))\n",
    "rainbowprice = bonus2\n",
    "pricemn = np.mean(rainbowprice)\n",
    "pricestd = np.std(rainbowprice) \n",
    "print(\"bonus2: %f\" %pricemn)\n",
    "print(\"Rainbow option價格95%%信賴區間為=(%f,%f)\" %(pricemn-2*pricestd,pricemn+2*pricestd))"
   ]
  }
 ],
 "metadata": {
  "kernelspec": {
   "display_name": "Python 3",
   "language": "python",
   "name": "python3"
  },
  "language_info": {
   "codemirror_mode": {
    "name": "ipython",
    "version": 3
   },
   "file_extension": ".py",
   "mimetype": "text/x-python",
   "name": "python",
   "nbconvert_exporter": "python",
   "pygments_lexer": "ipython3",
   "version": "3.6.5"
  }
 },
 "nbformat": 4,
 "nbformat_minor": 2
}
