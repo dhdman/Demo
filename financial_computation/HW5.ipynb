{
 "cells": [
  {
   "cell_type": "markdown",
   "metadata": {},
   "source": [
    "# 引入參數"
   ]
  },
  {
   "cell_type": "code",
   "execution_count": 1,
   "metadata": {},
   "outputs": [
    {
     "name": "stdout",
     "output_type": "stream",
     "text": [
      "1.0512710963760241 0.951229424500714 0.4935019038548862\n"
     ]
    }
   ],
   "source": [
    "import numpy as np\n",
    "M = 250\n",
    "St = 60\n",
    "S_avet = 53\n",
    "K = 50\n",
    "numsim = 10000\n",
    "numrep = 20\n",
    "T = 0.5\n",
    "t0 = 0.25\n",
    "#T-t0 = 0.25\n",
    "passing_time = 0.25\n",
    "r = 0.1\n",
    "q = 0.04\n",
    "sigma = 0.5\n",
    "n = 25\n",
    "dt = (T-t0)/n\n",
    "u = np.exp(sigma*np.sqrt(dt))\n",
    "d = np.exp(-sigma*np.sqrt(dt))\n",
    "p =  (np.exp((r-q)*dt)-d) / (u-d)\n",
    "print(u,d,p)"
   ]
  },
  {
   "cell_type": "raw",
   "metadata": {},
   "source": [
    "M-np.array(range(M+1))\n",
    "A[i,j,29]"
   ]
  },
  {
   "cell_type": "markdown",
   "metadata": {},
   "source": [
    "# 自訂函數"
   ]
  },
  {
   "cell_type": "code",
   "execution_count": 2,
   "metadata": {
    "scrolled": true
   },
   "outputs": [
    {
     "data": {
      "text/plain": [
       "240"
      ]
     },
     "execution_count": 2,
     "metadata": {},
     "output_type": "execute_result"
    }
   ],
   "source": [
    "def binarysearch(A,i,j,value): #數字由大到小\n",
    "    k = int(np.floor(M/2))\n",
    "    up = M  #位置的邊界\n",
    "    down = 0\n",
    "    while (np.abs(A[i,j,k]-value)>10**(-5) ):\n",
    "        #print(k)\n",
    "        if (A[i,j,k]-value)> 0:\n",
    "            down = max(down,k)\n",
    "            if (A[i,j,k+1]-value) < 0:\n",
    "                return k\n",
    "            k = int(np.floor((k+up)/2) )+1\n",
    "        else:\n",
    "            up = min(up,k)\n",
    "            k = int(np.floor((k+down)/2) )       \n",
    "    return k   #這邊算出來的k是老師講義上的k-1    \n",
    "\n",
    "#測試的數據 \n",
    "i = 5\n",
    "j = 1\n",
    "B = np.zeros((n+1,n+1,M+1))\n",
    "B[i,j,:] = M-np.array(range(M+1))\n",
    "binarysearch(B,i,j,10)\n"
   ]
  },
  {
   "cell_type": "code",
   "execution_count": 3,
   "metadata": {},
   "outputs": [],
   "source": [
    "def interpolsearch(A,i,j,value):\n",
    "    if np.abs(A[i,j,M]-A[i,j,0]) < 10**(-6): #排除一開始差距太小\n",
    "        return M\n",
    "    #print(A[i,j,0],value,A[i,j,M])\n",
    "    k = np.floor( M*(A[i,j,0]-value)/(A[i,j,0]-A[i,j,M]) )\n",
    "    return int(k)"
   ]
  },
  {
   "cell_type": "code",
   "execution_count": 4,
   "metadata": {},
   "outputs": [],
   "source": [
    "def seqsearch(A,i,j,value):\n",
    "    k = 0\n",
    "    while (A[i,j,k]-value) > -10**(-5)  :\n",
    "        k = k+1\n",
    "        if k == M:\n",
    "            return M\n",
    "        #print(k)\n",
    "    return k-1"
   ]
  },
  {
   "cell_type": "code",
   "execution_count": 5,
   "metadata": {},
   "outputs": [
    {
     "data": {
      "text/plain": [
       "0.0"
      ]
     },
     "execution_count": 5,
     "metadata": {},
     "output_type": "execute_result"
    }
   ],
   "source": [
    "def price_interpol(A,call,i,j,Avalue):\n",
    "    #k = binarysearch(A,i,j,Avalue)  #選用的方法\n",
    "    #k = interpolsearch(A,i,j,Avalue)\n",
    "    k = seqsearch(A,i,j,Avalue)\n",
    "    # print(k)\n",
    "    if k < M:\n",
    "        #print(k,'<',M)\n",
    "        if np.abs(A[i,j,k+1]-A[i,j,k])<10**(-3):\n",
    "            return call[i,j,k]\n",
    "        else:\n",
    "            w = (A[i,j,k]-Avalue)/(A[i,j,k]-A[i,j,k+1])\n",
    "            return w*call[i,j,k+1]+(1-w)*call[i,j,k]\n",
    "    \n",
    "    else: #k=m\n",
    "        return call[i,j,k]\n",
    "    \n",
    "i = 5\n",
    "j = 1   \n",
    "call = np.zeros((n+1,n+1,M+1))\n",
    "call[i,j,:] = M-np.array(range(M+1))\n",
    "price_interpol(B,call,i,j,0)\n",
    "\n"
   ]
  },
  {
   "cell_type": "code",
   "execution_count": 6,
   "metadata": {},
   "outputs": [],
   "source": [
    "def optioncal(optiontype): # 0:美式\n",
    "    call = np.zeros((n+1,n+1,M+1))\n",
    "\n",
    "    for i in range(n+1): \n",
    "        i = n-i #0~n\n",
    "        for j in range(i+1):\n",
    "            for k in range(M+1):\n",
    "                if i == n:\n",
    "                    call[n,j,k] = max(A[n,j,k]-K,0)\n",
    "                    #print(A[n,j,k])\n",
    "                else:\n",
    "                    a = A[i,j,k]\n",
    "                    Au = ( (i+1+passing_time/dt)*a+St*u**(i+1-j)*d**j )/(i+2+passing_time/dt)\n",
    "                    Ad = ( (i+1+passing_time/dt)*a+St*u**(i-j)*d**(j+1) )/(i+2+passing_time/dt)\n",
    "\n",
    "                    Cu = price_interpol(A,call,i+1,j,Au)\n",
    "                    Cd = price_interpol(A,call,i+1,j+1,Ad)\n",
    "                    if optiontype == 0: #美式\n",
    "                        call[i,j,k] = max(A[i,j,k]-K , np.exp(-r*dt)*(p*Cu+(1-p)*Cd) )\n",
    "                    else: #歐式\n",
    "                        call[i,j,k]  = np.exp(-r*dt)*(p*Cu+(1-p)*Cd)\n",
    "    return call[0,0,0]"
   ]
  },
  {
   "cell_type": "markdown",
   "metadata": {},
   "source": [
    "# 計算部分:"
   ]
  },
  {
   "cell_type": "markdown",
   "metadata": {},
   "source": [
    "## Amax、Amin、A"
   ]
  },
  {
   "cell_type": "code",
   "execution_count": 7,
   "metadata": {},
   "outputs": [],
   "source": [
    "# i,j是照老師的記號並非row,column值\n",
    "A_max = np.zeros((n+1,n+1))\n",
    "A_min = np.zeros((n+1,n+1))\n",
    "A = np.zeros((n+1,n+1,M+1))\n",
    "\n",
    "\n",
    "#Amax,Amin設定好\n",
    "for i in range(n+1):\n",
    "    for j in range(i+1):\n",
    "        A_max[i,j] =(  St *(-1+ (1-u**(i-j+1))/(1-u) + u**(i-j) *d*(1-d**j) /(1-d) ) \\\n",
    "                      + S_avet*(passing_time/dt+1)   ) \\\n",
    "                    /(i+passing_time/dt +1)\n",
    "        A_min[i,j] = ( St *(-1+ (1-d**(j+1))/(1-d) + d**(j) *u*(1-u**(i-j)) /(1-u) ) \\\n",
    "                       + S_avet*(passing_time/dt+1)    ) \\\n",
    "                    /(i+passing_time/dt +1)\n",
    "\n",
    "              \n",
    "#A的資料，總共有M+1個資料\n",
    "for i in range(n+1):\n",
    "    for j in range(i+1):\n",
    "        A[i,j,0] = A_max[i,j]\n",
    "        A[i,j,M] = A_min[i,j]\n",
    "        #print(i,j)\n",
    "        for k in range(1,M):\n",
    "            A[i,j,k] = (M-k)/M *A_max[i,j] + k/M *A_min[i,j]\n"
   ]
  },
  {
   "cell_type": "raw",
   "metadata": {},
   "source": [
    "EU_call[6,:,:]"
   ]
  },
  {
   "cell_type": "raw",
   "metadata": {},
   "source": [
    "i=5\n",
    "j=0\n",
    "k=0\n",
    "Au = 66.16139982878342\n",
    "#price_interpol(A,EU_call,i+1,j,Au)\n",
    "\n",
    "#binarysearch(A,i+1,j,Au)\n",
    "A[i+1,j,:]\n",
    "\n"
   ]
  },
  {
   "cell_type": "markdown",
   "metadata": {},
   "source": [
    "## option price"
   ]
  },
  {
   "cell_type": "code",
   "execution_count": 8,
   "metadata": {
    "scrolled": true
   },
   "outputs": [
    {
     "name": "stdout",
     "output_type": "stream",
     "text": [
      "歐式: 6.553765634276815\n"
     ]
    }
   ],
   "source": [
    "print(\"歐式:\",optioncal(1))"
   ]
  },
  {
   "cell_type": "code",
   "execution_count": 9,
   "metadata": {},
   "outputs": [
    {
     "name": "stdout",
     "output_type": "stream",
     "text": [
      "美式: 7.05929863958554\n"
     ]
    }
   ],
   "source": [
    "print(\"美式:\",optioncal(0))"
   ]
  },
  {
   "cell_type": "markdown",
   "metadata": {},
   "source": [
    "# Monte Carlo"
   ]
  },
  {
   "cell_type": "code",
   "execution_count": 10,
   "metadata": {},
   "outputs": [
    {
     "name": "stdout",
     "output_type": "stream",
     "text": [
      "Monte Carlo的值:6.573092 \n",
      "95%信賴區間:(6.498312,6.647873)\n"
     ]
    }
   ],
   "source": [
    "#n = 5\n",
    "#numsim = 10\n",
    "def MCsimpath(St,r,q,sigma,dt,numsim,n,K):\n",
    "    stockpath = np.zeros((numsim,n))\n",
    "    for i in range(n):  #共n期\n",
    "        if i == 0:\n",
    "            stockpath[:,i] = np.random.normal(loc=np.log(St)+(r-q - sigma**2 /2)*dt, scale=sigma*np.sqrt(dt),size =numsim)\n",
    "        else:\n",
    "            stockpath[:,i] = np.random.normal((r-q - sigma**2 /2)*dt, sigma*np.sqrt(dt),numsim) + stockpath[:,i-1]\n",
    "    stockpath = np.exp(stockpath)\n",
    "    \n",
    "    futureprice = (np.sum(stockpath,axis=1)+S_avet*(passing_time/dt+1))/(n+passing_time/dt+1) -K #axis=1這個軸的座標變動，而其他軸固定\n",
    "    futureprice[futureprice<0] = 0\n",
    "    #print(futureputprice)\n",
    "    return np.mean(np.exp(-r*(T-t0))*futureprice) \n",
    "\n",
    "mcresult = []\n",
    "for i in range(numrep):\n",
    "    mcresult.append(MCsimpath(St,r,q,sigma,dt,numsim,n,K))\n",
    "\n",
    "pmn = np.mean(mcresult)\n",
    "psd = np.std(mcresult)\n",
    "print('Monte Carlo的值:%f \\n95%%信賴區間:(%f,%f)' %(pmn,pmn-psd*2,pmn+psd*2))\n"
   ]
  },
  {
   "cell_type": "markdown",
   "metadata": {},
   "source": [
    "# BONUS 1"
   ]
  },
  {
   "cell_type": "code",
   "execution_count": 11,
   "metadata": {},
   "outputs": [
    {
     "name": "stdout",
     "output_type": "stream",
     "text": [
      "歐式: 6.553770286255998\n",
      "美式: 7.05929887621928\n"
     ]
    }
   ],
   "source": [
    "A = np.zeros((n+1,n+1,M+1))\n",
    "#A的資料，總共有M+1個資料\n",
    "for i in range(n+1):\n",
    "    for j in range(i+1):\n",
    "        A[i,j,0] = A_max[i,j]\n",
    "        A[i,j,M] = A_min[i,j]\n",
    "        #print(i,j)\n",
    "        for k in range(1,M):\n",
    "            A[i,j,k] =np.exp( (M-k)/M *np.log(A_max[i,j]) + k/M *np.log(A_min[i,j]) )\n",
    "print(\"歐式:\",optioncal(1))\n",
    "print(\"美式:\",optioncal(0))"
   ]
  },
  {
   "cell_type": "markdown",
   "metadata": {},
   "source": [
    "# BONUS 2\n",
    "* 1.sequential search\n",
    "* 2.Binary search\n",
    "* 3.linear search"
   ]
  },
  {
   "cell_type": "code",
   "execution_count": 12,
   "metadata": {},
   "outputs": [
    {
     "data": {
      "text/plain": [
       "1"
      ]
     },
     "execution_count": 12,
     "metadata": {},
     "output_type": "execute_result"
    }
   ],
   "source": [
    "def seqsearch(A,i,j,value):\n",
    "    k = 0\n",
    "    while (A[i,j,k]-value) > -10**(-5)  :\n",
    "        k = k+1\n",
    "        if k == M:\n",
    "            return M\n",
    "        #print(k)\n",
    "    return k-1\n",
    "    \n",
    "#測試的數據 \n",
    "i = 5\n",
    "j = 1\n",
    "B = np.zeros((n+1,n+1,M+1))\n",
    "B[i,j,:] = M-np.array(range(M+1))\n",
    "seqsearch(B,i,j,249)"
   ]
  },
  {
   "cell_type": "code",
   "execution_count": 13,
   "metadata": {},
   "outputs": [
    {
     "data": {
      "text/plain": [
       "10"
      ]
     },
     "execution_count": 13,
     "metadata": {},
     "output_type": "execute_result"
    }
   ],
   "source": [
    "def interpolsearch(A,i,j,value):\n",
    "    if np.abs(A[i,j,M]-A[i,j,0]) < 10**(-6): #排除一開始差距太小\n",
    "        return M\n",
    "    #print(A[i,j,0],value,A[i,j,M])\n",
    "    k = np.floor( M*(A[i,j,0]-value)/(A[i,j,0]-A[i,j,M]) )\n",
    "    return int(k)\n",
    "#測試的數據 \n",
    "i = 5\n",
    "j = 1\n",
    "B = np.zeros((n+1,n+1,M+1))\n",
    "B[i,j,:] = M-np.array(range(M+1))\n",
    "interpolsearch(B,i,j,240)"
   ]
  }
 ],
 "metadata": {
  "kernelspec": {
   "display_name": "Python 3",
   "language": "python",
   "name": "python3"
  },
  "language_info": {
   "codemirror_mode": {
    "name": "ipython",
    "version": 3
   },
   "file_extension": ".py",
   "mimetype": "text/x-python",
   "name": "python",
   "nbconvert_exporter": "python",
   "pygments_lexer": "ipython3",
   "version": "3.6.8"
  }
 },
 "nbformat": 4,
 "nbformat_minor": 2
}
