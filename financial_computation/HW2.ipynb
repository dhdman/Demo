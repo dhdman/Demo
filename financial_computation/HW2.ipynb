{
 "cells": [
  {
   "cell_type": "markdown",
   "metadata": {},
   "source": [
    "# 程式作業2\n",
    "* flag variable: call or put(0 or 1)"
   ]
  },
  {
   "cell_type": "code",
   "execution_count": 1,
   "metadata": {},
   "outputs": [],
   "source": [
    "import numpy as np\n",
    "from scipy.stats import norm\n",
    "from numpy import *\n",
    "from pandas.core.frame import DataFrame"
   ]
  },
  {
   "cell_type": "code",
   "execution_count": 11,
   "metadata": {},
   "outputs": [],
   "source": [
    "# 期數\n",
    "n = 500\n",
    "\n",
    "#parameter\n",
    "s0 = 50\n",
    "K = 50\n",
    "numsim = 10000\n",
    "numrep = 20\n",
    "T = 0.5\n",
    "r = 0.1\n",
    "q = 0.05\n",
    "sigma = 0.4\n",
    "dt = T/n\n",
    "u = np.exp(sigma*sqrt(dt))\n",
    "d = np.exp(-sigma*sqrt(dt))\n",
    "p =  (np.exp((r-q)*dt)-d) / (u-d)\n"
   ]
  },
  {
   "cell_type": "markdown",
   "metadata": {},
   "source": [
    "# CRR model建置\n",
    "## 由2維陣列紀錄各期資訊\n",
    "* 將二元樹的圖 轉換至 對角線以上(上三角)的位置\n",
    "* column: 越大 期數越大\n",
    "* row: 越小 股價上漲次數越多"
   ]
  },
  {
   "cell_type": "code",
   "execution_count": 28,
   "metadata": {},
   "outputs": [],
   "source": [
    "def CRRmodel(s0,u,d,p,dt,optiontype): # optiontype 1:EU 0:AM    \n",
    "    call = zeros((n+1,n+1))  #陣列從零開始\n",
    "    put = zeros((n+1,n+1))\n",
    "    region = \"\"\n",
    "    \n",
    "    for j_inv in range(0,n+1):  \n",
    "        j = n - j_inv  # 期數由最後一期往前推\n",
    "        for i in range(0,j+1): # 計算到對角線的row\n",
    "            if j == n: \n",
    "                call[i][n] = max( s0*power(u,n-i)*power(d,i)-K , 0)\n",
    "                put[i][n] = max( K-s0*power(u,n-i)*power(d,i) , 0)\n",
    "            else:\n",
    "                callvalue = np.exp(-r*dt)*(p*call[i][j+1] + (1-p)*call[i+1][j+1])\n",
    "                putvalue = np.exp(-r*dt)*(p*put[i][j+1] + (1-p)*put[i+1][j+1])\n",
    "                if optiontype == 1: #Europe\n",
    "                    call[i][j] = callvalue\n",
    "                    put[i][j] = putvalue\n",
    "                    region = \"歐式\"\n",
    "                elif optiontype == 0: #American\n",
    "                    call[i][j] = max(callvalue , s0*power(u,j-i)*power(d,i)-K )\n",
    "                    put[i][j] = max(putvalue , K-s0*power(u,j-i)*power(d,i) )\n",
    "                    region = \"美式\"\n",
    "    print(\"CRR model:\")\n",
    "    print(\"%s call: %f\\n%s  put: %f\"%(region,call[0][0],region,put[0][0]))                                    \n",
    "    #return (call,put)\n"
   ]
  },
  {
   "cell_type": "code",
   "execution_count": 29,
   "metadata": {},
   "outputs": [
    {
     "name": "stdout",
     "output_type": "stream",
     "text": [
      "CRR model:\n",
      "歐式 call: 6.036903\n",
      "歐式  put: 4.832879\n",
      "CRR model:\n",
      "美式 call: 6.037103\n",
      "美式  put: 4.985903\n",
      "Wall time: 4.41 s\n"
     ]
    }
   ],
   "source": [
    "%%time\n",
    "CRRmodel(s0,u,d,p,dt,1)\n",
    "CRRmodel(s0,u,d,p,dt,0)"
   ]
  },
  {
   "cell_type": "code",
   "execution_count": 5,
   "metadata": {},
   "outputs": [],
   "source": [
    "def bsprice(s0,r,q,K,T,sigma):\n",
    "    v1 = (np.log(s0/K)+(r-q + sigma**2 /2)*T ) / (sigma*np.sqrt(T))\n",
    "    v2 = (np.log(s0/K)+(r-q - sigma**2 /2)*T ) / (sigma*np.sqrt(T))\n",
    "    call = s0*np.exp(-q*T)*norm.cdf(v1) - np.exp(-r*T)*K*norm.cdf(v2)\n",
    "    put = call - s0*np.exp(-q*T) + K*np.exp(-r*T)\n",
    "    print(\"Black-Scholes:\")\n",
    "    print(\"call: %f\\n put: %f\"%(call,put))  \n",
    "    \n",
    "    #return (call,put)"
   ]
  },
  {
   "cell_type": "code",
   "execution_count": 6,
   "metadata": {},
   "outputs": [
    {
     "name": "stdout",
     "output_type": "stream",
     "text": [
      "Black-Scholes:\n",
      "call: 6.039621\n",
      " put: 4.835596\n"
     ]
    }
   ],
   "source": [
    "bsprice(s0,r,q,K,T,sigma)"
   ]
  },
  {
   "cell_type": "code",
   "execution_count": 7,
   "metadata": {},
   "outputs": [
    {
     "name": "stdout",
     "output_type": "stream",
     "text": [
      "Monte Carlo simulation:\n",
      "call的95%信賴區間為=(5.894481,6.210382)\n",
      " put的95%信賴區間為=(4.708346,4.947850)\n"
     ]
    }
   ],
   "source": [
    "def MCsimulation(s0,r,q,K,T,sigma,numrep,numsim):\n",
    "    a = []\n",
    "    b = []\n",
    "    for i in range(1,numrep+1):\n",
    "        lnst = np.random.normal(loc=np.log(s0)+(r-q - sigma**2 /2)*T, scale=sigma*np.sqrt(T), size=numsim)\n",
    "        stock = np.exp(lnst)\n",
    "        callpayoff = [ np.exp(-r*T) * max(0,st-K) for st in stock]\n",
    "        putpayoff = [ np.exp(-r*T) * max(0,K-st) for st in stock]\n",
    "        a.append(np.mean(callpayoff))  \n",
    "        b.append(np.mean(putpayoff))\n",
    "    callmn = np.mean(a)\n",
    "    callsd = np.std(a)\n",
    "    putmn = np.mean(b)\n",
    "    putsd = np.std(b)\n",
    "    print ('Monte Carlo simulation:')\n",
    "    print ('call的95%%信賴區間為=(%f,%f)' %(callmn-2*callsd,callmn+2*callsd))\n",
    "    print (' put的95%%信賴區間為=(%f,%f)' %(putmn-2*putsd,putmn+2*putsd))\n",
    "    \n",
    "MCsimulation(s0,r,q,K,T,sigma,numrep,numsim)"
   ]
  },
  {
   "cell_type": "markdown",
   "metadata": {},
   "source": [
    "# Bonus1\n",
    "* CRR with one column vector"
   ]
  },
  {
   "cell_type": "code",
   "execution_count": 8,
   "metadata": {},
   "outputs": [],
   "source": [
    "def CRRmodel_onevector(s0,u,d,p,dt,optiontype): # optiontype 1:EU 0:AM    \n",
    "    call = [[]]*(n+1)  #陣列從零開始\n",
    "    put = [[]]*(n+1)\n",
    "    region = \"\"\n",
    "    for j in range(0,n+1):\n",
    "        for i in range(0,n-j+1): \n",
    "            if j == 0:\n",
    "                call[i] = max( s0*power(u,n-i)*power(d,i)-K , 0)\n",
    "                put[i] = max( K-s0*power(u,n-i)*power(d,i) , 0)\n",
    "            else:\n",
    "                callvalue = np.exp(-r*dt)*(p*call[i] + (1-p)*call[i+1])\n",
    "                putvalue = np.exp(-r*dt)*(p*put[i] + (1-p)*put[i+1])\n",
    "                if optiontype == 1: #Europe\n",
    "                    call[i] = callvalue\n",
    "                    put[i] = putvalue\n",
    "                    region = \"歐式\"\n",
    "                elif optiontype == 0: #American\n",
    "                    call[i] = max(callvalue , s0*power(u,n-j-i)*power(d,i)-K )\n",
    "                    put[i] = max(putvalue , K-s0*power(u,n-j-i)*power(d,i) )\n",
    "                    region = \"美式\"\n",
    "    print(\"CRR model_vector one:\")\n",
    "    print(\"%s call: %f\\n%s  put: %f\"%(region,call[0],region,put[0]))                                    \n",
    "    #return (call,put)\n"
   ]
  },
  {
   "cell_type": "code",
   "execution_count": 9,
   "metadata": {
    "scrolled": true
   },
   "outputs": [
    {
     "name": "stdout",
     "output_type": "stream",
     "text": [
      "CRR model_vector one:\n",
      "歐式 call: 6.036903\n",
      "歐式  put: 4.832879\n"
     ]
    }
   ],
   "source": [
    "CRRmodel_onevector(s0,u,d,p,dt,1)"
   ]
  },
  {
   "cell_type": "markdown",
   "metadata": {},
   "source": [
    "# Bonus2: Combinatorial method"
   ]
  },
  {
   "cell_type": "code",
   "execution_count": 16,
   "metadata": {},
   "outputs": [
    {
     "name": "stdout",
     "output_type": "stream",
     "text": [
      "Combinatorial method:\n",
      "call: 6.036903\n"
     ]
    }
   ],
   "source": [
    "def combmethod(s0,u,d,p):\n",
    "    count = 0\n",
    "    test = 0\n",
    "    for j in range(0,n+1):   \n",
    "        if s0*(u**(n-j))*(d**j) > K:\n",
    "            if j==0:\n",
    "                logcomb = 0\n",
    "            else: \n",
    "                logcomb = sum(np.log([n-i for i in range(j)])) - sum(np.log([i+1 for i in range(j)]) )\n",
    "            mid = (n-j)*np.log(p) + j*np.log(1-p)\n",
    "            count = count + np.exp(logcomb + mid) * (s0*(u**(n-j))*(d**j)-K)         \n",
    "    count = count*np.exp(-r*T) \n",
    "    print('Combinatorial method:\\ncall: %f'%count)\n",
    "combmethod(s0,u,d,p)                                                            "
   ]
  },
  {
   "cell_type": "markdown",
   "metadata": {},
   "source": [
    "# 硬幹的Combinational method"
   ]
  },
  {
   "cell_type": "code",
   "execution_count": 11,
   "metadata": {},
   "outputs": [
    {
     "data": {
      "text/plain": [
       "6.036903158041655"
      ]
     },
     "execution_count": 11,
     "metadata": {},
     "output_type": "execute_result"
    }
   ],
   "source": [
    "\n",
    "from scipy.special import comb, perm\n",
    "\n",
    "count = 0\n",
    "for j in range(0,n+1): \n",
    "    if s0*(u**(n-j))*(d**j) > K:\n",
    "        count = count + comb(n,j)*(p**(n-j))*((1-p)**j) * (s0*(u**(n-j))*(d**j)-K)\n",
    "count = count *np.exp(-r*T)\n",
    "count"
   ]
  }
 ],
 "metadata": {
  "kernelspec": {
   "display_name": "Python 3",
   "language": "python",
   "name": "python3"
  },
  "language_info": {
   "codemirror_mode": {
    "name": "ipython",
    "version": 3
   },
   "file_extension": ".py",
   "mimetype": "text/x-python",
   "name": "python",
   "nbconvert_exporter": "python",
   "pygments_lexer": "ipython3",
   "version": "3.6.5"
  }
 },
 "nbformat": 4,
 "nbformat_minor": 2
}
